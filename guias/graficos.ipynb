{
 "cells": [
  {
   "cell_type": "markdown",
   "id": "0159faee",
   "metadata": {},
   "source": [
    "##### Grafico lineal ( valor / tienpo)\n",
    "\n",
    "*   ejemplo\n",
    "    \n",
    "\n",
    "*   implementacion\n"
   ]
  },
  {
   "cell_type": "code",
   "execution_count": null,
   "id": "19122003",
   "metadata": {
    "vscode": {
     "languageId": "plaintext"
    }
   },
   "outputs": [],
   "source": []
  },
  {
   "cell_type": "markdown",
   "id": "bc40fcd2",
   "metadata": {},
   "source": [
    "##### Grafico On or Off (prendido o apagado)\n",
    "* ejemplo\n",
    "* implementacion\n",
    "\n"
   ]
  },
  {
   "cell_type": "code",
   "execution_count": null,
   "id": "57fe4d09",
   "metadata": {
    "vscode": {
     "languageId": "plaintext"
    }
   },
   "outputs": [],
   "source": []
  },
  {
   "cell_type": "markdown",
   "id": "a9c6c56e",
   "metadata": {},
   "source": [
    "##### Grafico Del motor por pasos\n",
    "\n",
    "* ejemplo\n",
    "* implementacion\n"
   ]
  }
 ],
 "metadata": {
  "language_info": {
   "name": "python"
  }
 },
 "nbformat": 4,
 "nbformat_minor": 5
}
