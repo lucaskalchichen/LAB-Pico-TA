{
 "cells": [
  {
   "cell_type": "markdown",
   "id": "fc0ef2db",
   "metadata": {},
   "source": [
    "## Funcionamiento \n",
    "\n",
    "1. **Descubrimiento**  \n",
    "   * Los clientes buscan al maestro.  \n",
    "   * Al encontrarlo, le avisan que existe (su nombre).  \n",
    "   * Al recibir la confirmación del maestro,  \n",
    "   * le envían su nombre y sus modelos de datos.  \n",
    "\n",
    "2. **Recepción**  \n",
    "   * El maestro recibe los datos en MQTT.  \n",
    "   * Los grafica en la herramienta correspondiente (el tipo de gráfico se define en el modelo y se guarda en caché en el maestro).  \n",
    "\n"
   ]
  }
 ],
 "metadata": {
  "language_info": {
   "name": "python"
  }
 },
 "nbformat": 4,
 "nbformat_minor": 5
}
